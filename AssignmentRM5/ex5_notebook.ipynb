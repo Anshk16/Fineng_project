{
 "cells": [
  {
   "cell_type": "markdown",
   "metadata": {},
   "source": [
    "# Mathematical Engineering - Financial Engineering, FY 2024-2025\n",
    "# Risk Management - Exercise 5: Extended Vasiceck model Monte Carlo simulation for CCR estimation"
   ]
  },
  {
   "metadata": {
    "ExecuteTime": {
     "end_time": "2025-05-09T15:25:09.742022Z",
     "start_time": "2025-05-09T15:25:08.413823Z"
    }
   },
   "cell_type": "code",
   "source": [
    "# Importing the libraries\n",
    "import numpy as np\n",
    "import pandas as pd\n",
    "\n",
    "\n",
    "from utilities.ex1_utilities import (\n",
    "    business_date_offset,\n",
    "    date_series,\n",
    "    bootstrap,\n",
    "    SwapType,\n",
    "    swap_par_rate,\n",
    "    year_frac_30_360,\n",
    "    from_discount_factors_to_zero_rates,\n",
    "    get_discount_factor_by_zero_rates_linear_interp,\n",
    "    year_frac_act_x\n",
    ")\n",
    "from utilities.ex5_utilities import (\n",
    "    affine_trick,\n",
    ")"
   ],
   "outputs": [],
   "execution_count": 1
  },
  {
   "metadata": {
    "ExecuteTime": {
     "end_time": "2025-05-09T15:25:09.843113Z",
     "start_time": "2025-05-09T15:25:09.762412Z"
    }
   },
   "cell_type": "code",
   "source": [
    "filename = \"MktData_CurveBootstrap.xls\"\n",
    "dates, rates , discount_factors  = bootstrap(filename,0)\n",
    "\n",
    "today = dates[0]"
   ],
   "outputs": [],
   "execution_count": 2
  },
  {
   "cell_type": "code",
   "metadata": {
    "ExecuteTime": {
     "end_time": "2025-05-09T15:25:10.200016Z",
     "start_time": "2025-05-09T15:25:10.184628Z"
    }
   },
   "source": [
    "# Parameters\n",
    "swap_type = SwapType.PAYER\n",
    "maturity = 8  # Maturity in years\n",
    "fixed_freq = 4  # Number of times per year\n",
    "\n",
    "mean_reversion_speed = 0.0195\n",
    "sigma = 0.0086\n",
    "\n",
    "expiry = business_date_offset(today, year_offset=maturity)\n",
    "fixed_leg_payment_dates = date_series(today, expiry, fixed_freq)\n",
    "\n",
    "swap_rate = swap_par_rate(today,fixed_leg_payment_dates, discount_factors,None,dates)\n",
    "print(f\"Swap rate: {swap_rate:.4%}\")"
   ],
   "outputs": [
    {
     "name": "stdout",
     "output_type": "stream",
     "text": [
      "Swap rate: 2.7886%\n"
     ]
    }
   ],
   "execution_count": 3
  },
  {
   "cell_type": "code",
   "metadata": {
    "ExecuteTime": {
     "end_time": "2025-05-09T15:25:10.242189Z",
     "start_time": "2025-05-09T15:25:10.224670Z"
    }
   },
   "source": [
    "# Monte Carlo Simulations\n",
    "simulations_num = 250_000\n",
    "simulation_grid = fixed_leg_payment_dates[1:]\n",
    "\n",
    "alpha = 0.95  # PFE confidence level\n",
    "\n",
    "expected_exposure = pd.DataFrame(\n",
    "    data=0.0, index=simulation_grid, columns=[\"no_collateral\", \"collateral\"]\n",
    ")\n",
    "potential_future_exposure = pd.DataFrame(\n",
    "    data=0.0, index=simulation_grid, columns=[\"no_collateral\", \"collateral\"]\n",
    ")\n",
    "\n"
   ],
   "outputs": [],
   "execution_count": 4
  },
  {
   "cell_type": "code",
   "metadata": {
    "ExecuteTime": {
     "end_time": "2025-05-09T15:25:10.392157Z",
     "start_time": "2025-05-09T15:25:10.376125Z"
    }
   },
   "source": [
    "# Compute IRS cash flows\n",
    "new_discount = [get_discount_factor_by_zero_rates_linear_interp(today, d, dates, discount_factors) for d in fixed_leg_payment_dates[1:]]\n",
    "irs_cash_flows = pd.Series(index=fixed_leg_payment_dates[1:])\n",
    "for i in range(1, len(fixed_leg_payment_dates)):\n",
    "    delta = year_frac_30_360(fixed_leg_payment_dates[i-1], fixed_leg_payment_dates[i])\n",
    "    irs_cash_flows[i-1] = delta * swap_rate\n",
    "\n",
    "print(f\"IRS cash flows:\\n{irs_cash_flows}\\n\")\n"
   ],
   "outputs": [
    {
     "name": "stdout",
     "output_type": "stream",
     "text": [
      "IRS cash flows:\n",
      "2023-05-02    0.006971\n",
      "2023-08-02    0.006971\n",
      "2023-11-02    0.006971\n",
      "2024-02-02    0.006971\n",
      "2024-05-02    0.006971\n",
      "2024-08-02    0.006971\n",
      "2024-11-04    0.007126\n",
      "2025-02-03    0.006894\n",
      "2025-05-02    0.006894\n",
      "2025-08-04    0.007126\n",
      "2025-11-03    0.006894\n",
      "2026-02-02    0.006894\n",
      "2026-05-04    0.007126\n",
      "2026-08-03    0.006894\n",
      "2026-11-02    0.006894\n",
      "2027-02-02    0.006971\n",
      "2027-05-03    0.007049\n",
      "2027-08-02    0.006894\n",
      "2027-11-02    0.006971\n",
      "2028-02-02    0.006971\n",
      "2028-05-02    0.006971\n",
      "2028-08-02    0.006971\n",
      "2028-11-02    0.006971\n",
      "2029-02-02    0.006971\n",
      "2029-05-02    0.006971\n",
      "2029-08-02    0.006971\n",
      "2029-11-02    0.006971\n",
      "2030-02-04    0.007126\n",
      "2030-05-02    0.006817\n",
      "2030-08-02    0.006971\n",
      "2030-11-04    0.007126\n",
      "2031-02-03    0.006894\n",
      "dtype: float64\n",
      "\n"
     ]
    },
    {
     "name": "stderr",
     "output_type": "stream",
     "text": [
      "C:\\Users\\Salvo\\AppData\\Local\\Temp\\ipykernel_17224\\3716204272.py:6: FutureWarning: Series.__setitem__ treating keys as positions is deprecated. In a future version, integer keys will always be treated as labels (consistent with DataFrame behavior). To set a value by position, use `ser.iloc[pos] = value`\n",
      "  irs_cash_flows[i-1] = delta * swap_rate\n"
     ]
    }
   ],
   "execution_count": 5
  },
  {
   "metadata": {
    "ExecuteTime": {
     "end_time": "2025-05-09T15:25:17.420605Z",
     "start_time": "2025-05-09T15:25:10.502869Z"
    }
   },
   "cell_type": "code",
   "source": [
    "Z = np.random.normal(size=(simulations_num, len(simulation_grid)))\n",
    "\n",
    "# Initialize collateral tracking\n",
    "collateral = np.zeros(simulations_num)  # Track collateral separately for each simulation\n",
    "last_collateral_update = today  # Track last collateral update date\n",
    "\n",
    "for count, sim_date in enumerate(simulation_grid):\n",
    "    if count == 0:\n",
    "        prev_sim_date = today\n",
    "        x_t = np.zeros((1,simulations_num))\n",
    "    else:\n",
    "        prev_sim_date = simulation_grid[count - 1]\n",
    "\n",
    "    # Simulate the short rate x_t\n",
    "    delta_t = year_frac_act_x(prev_sim_date, sim_date, 365)\n",
    "    x_t = x_t * np.exp(-mean_reversion_speed * delta_t) + \\\n",
    "          sigma * np.sqrt((1 - np.exp(-2 * mean_reversion_speed * delta_t)) /\n",
    "               (2 * mean_reversion_speed)) * Z[:, count]\n",
    "\n",
    "    A, C = affine_trick(\n",
    "        sim_date,\n",
    "        today,\n",
    "        simulation_grid,\n",
    "        mean_reversion_speed,\n",
    "        sigma,\n",
    "        new_discount,\n",
    "    )\n",
    "\n",
    "    # Simulated MtM\n",
    "    MtM = (-1 if swap_type == SwapType.PAYER else 1) * (\n",
    "        np.sum(\n",
    "            np.exp(\n",
    "                np.log(irs_cash_flows * A).values.reshape(-1, 1)\n",
    "                @ np.ones((1, simulations_num))\n",
    "                - C.values.reshape(-1, 1) @ x_t.reshape(1, -1)\n",
    "            ),\n",
    "            axis=0,\n",
    "        )\n",
    "        - A.iloc[-1]*np.exp(-x_t*C.iloc[-1])\n",
    "        - (-1 if sim_date < simulation_grid[-1] else 0)\n",
    "    )\n",
    "    MtMs = MtM[:, count]\n",
    "    # Annual collateral update check\n",
    "    if sim_date.year > last_collateral_update.year:  # Annual update\n",
    "        collateral = MtM\n",
    "        last_collateral_update = sim_date\n",
    "\n",
    "    # Calculate exposures\n",
    "    credit_exposure = np.maximum(MtM, 0)\n",
    "    probability = np.mean(MtM > 0)\n",
    "    collateral_exposure = np.maximum(MtM - collateral, 0)\n",
    "\n",
    "    # Store results\n",
    "    expected_exposure.loc[count, \"no_collateral\"] = np.mean(credit_exposure)\n",
    "    expected_exposure.loc[count, \"collateral\"] = np.mean(collateral_exposure)\n",
    "\n",
    "    potential_future_exposure.loc[count, \"no_collateral\"] = np.quantile(credit_exposure, alpha)\n",
    "    potential_future_exposure.loc[count, \"collateral\"] = np.quantile(collateral_exposure, alpha)\n",
    "\n",
    "# Calculate summary metrics\n",
    "expected_positive_exposure = {\n",
    "    \"no_collateral\": np.mean(expected_exposure[\"no_collateral\"]),\n",
    "    \"collateral\": np.mean(expected_exposure[\"collateral\"])\n",
    "}\n",
    "\n",
    "peak_pfe = {\n",
    "    \"no_collateral\": np.max(potential_future_exposure[\"no_collateral\"]),\n",
    "    \"collateral\": np.max(potential_future_exposure[\"collateral\"])\n",
    "}"
   ],
   "outputs": [],
   "execution_count": 6
  },
  {
   "metadata": {
    "ExecuteTime": {
     "end_time": "2025-05-09T15:25:17.473353Z",
     "start_time": "2025-05-09T15:25:17.460824Z"
    }
   },
   "cell_type": "code",
   "source": [
    "# Print results\n",
    "print(\"\\n===== Results with Annual Collateral =====\")\n",
    "print(f\"EPE without collateral: {expected_positive_exposure['no_collateral']:.6f}\")\n",
    "print(f\"EPE with annual collateral: {expected_positive_exposure['collateral']:.6f} (reduction: {100*(1-expected_positive_exposure['collateral']/expected_positive_exposure['no_collateral']):.1f}%)\")\n",
    "print(f\"\\nPeak PFE without collateral: {peak_pfe['no_collateral']:.6f}\")\n",
    "print(f\"Peak PFE with annual collateral: {peak_pfe['collateral']:.6f} (reduction: {100*(1-peak_pfe['collateral']/peak_pfe['no_collateral']):.1f}%)\")"
   ],
   "outputs": [
    {
     "name": "stdout",
     "output_type": "stream",
     "text": [
      "\n",
      "===== Results with Annual Collateral =====\n",
      "EPE without collateral: 0.012144\n",
      "EPE with annual collateral: 0.005095 (reduction: 58.0%)\n",
      "\n",
      "Peak PFE without collateral: 0.776836\n",
      "Peak PFE with annual collateral: 0.109501 (reduction: 85.9%)\n"
     ]
    }
   ],
   "execution_count": 7
  }
 ],
 "metadata": {
  "kernelspec": {
   "display_name": ".venv",
   "language": "python",
   "name": "python3"
  },
  "language_info": {
   "codemirror_mode": {
    "name": "ipython",
    "version": 3
   },
   "file_extension": ".py",
   "mimetype": "text/x-python",
   "name": "python",
   "nbconvert_exporter": "python",
   "pygments_lexer": "ipython3",
   "version": "3.13.2"
  }
 },
 "nbformat": 4,
 "nbformat_minor": 2
}
