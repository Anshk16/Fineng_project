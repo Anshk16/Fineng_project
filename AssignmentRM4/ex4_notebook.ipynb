{
 "cells": [
  {
   "cell_type": "markdown",
   "metadata": {},
   "source": [
    "# Mathematical Engineering - Financial Engineering, FY 2024-2025\n",
    "# Risk Management - Exercise 4: Credit Portfolio Single Factor Model"
   ]
  },
  {
   "cell_type": "code",
   "metadata": {
    "ExecuteTime": {
     "end_time": "2025-04-06T17:00:35.606760Z",
     "start_time": "2025-04-06T17:00:33.645585Z"
    }
   },
   "source": [
    "# Importing the libraries\n",
    "import os\n",
    "import pickle\n",
    "import numpy as np\n",
    "import pandas as pd\n",
    "from pathlib import Path\n",
    "\n",
    "from scipy.stats import norm\n",
    "from utilities.ex1_utilities import (\n",
    "    business_date_offset,\n",
    "    get_discount_factor_by_zero_rates_linear_interp,\n",
    "    bootstrap,\n",
    ")"
   ],
   "outputs": [],
   "execution_count": 2
  },
  {
   "cell_type": "code",
   "metadata": {
    "ExecuteTime": {
     "end_time": "2025-04-06T17:00:35.742105Z",
     "start_time": "2025-04-06T17:00:35.639800Z"
    }
   },
   "source": [
    "# Bootstrap\n",
    "\n",
    "filename = \"MktData_CurveBootstrap.xls\"\n",
    "dates, rates , discount_factors  = bootstrap(filename,0)\n",
    "\n",
    "today = dates[0]"
   ],
   "outputs": [],
   "execution_count": 3
  },
  {
   "cell_type": "code",
   "metadata": {
    "ExecuteTime": {
     "end_time": "2025-04-06T17:00:35.775967Z",
     "start_time": "2025-04-06T17:00:35.763705Z"
    }
   },
   "source": [
    "# Parameters\n",
    "issuers_num = 100  # Number of bonds in the portfolio\n",
    "maturity = 2  # Maturity in years\n",
    "\n",
    "rating = \"IG\"  # Credit rating\n",
    "\n",
    "expiry = business_date_offset(today, year_offset=maturity)\n",
    "\n",
    "transition_matrix = pd.DataFrame(\n",
    "    [[0.73, 0.25, 0.02], [0.35, 0.6, 0.05], [0, 0, 1]],\n",
    "    index=[\"IG\", \"HY\", \"Def\"],\n",
    "    columns=[\"IG\", \"HY\", \"Def\"],\n",
    ")\n",
    "\n",
    "transition_matrix_2y =  transition_matrix @ transition_matrix\n",
    "\n",
    "recovery_rate = 0.4\n",
    "face_value = 1_000_000\n",
    "rho = 0.15\n",
    "mc_simulations = 1_000_000\n",
    "alpha = 99 #confidence level of the test"
   ],
   "outputs": [],
   "execution_count": 4
  },
  {
   "metadata": {
    "ExecuteTime": {
     "end_time": "2025-04-06T17:00:35.843816Z",
     "start_time": "2025-04-06T17:00:35.829Z"
    }
   },
   "cell_type": "code",
   "source": [
    "        # Q1-Q3: Portfolio MtM Evaluate the present value in a year's time under various scenarios\n",
    "\n",
    "\n",
    "df_expiry = get_discount_factor_by_zero_rates_linear_interp(\n",
    "    today, expiry, dates, discount_factors\n",
    ")\n",
    "\n",
    "mid_date=business_date_offset(today, month_offset=6)\n",
    "df_mid_date=get_discount_factor_by_zero_rates_linear_interp(\n",
    "    today, mid_date, dates, discount_factors\n",
    ")\n",
    "\n",
    "\n",
    "one_year = business_date_offset(today, year_offset=1)\n",
    "df_expiry_1y = get_discount_factor_by_zero_rates_linear_interp(\n",
    "    today, one_year, dates, discount_factors\n",
    ")\n",
    "\n",
    "\n",
    "df_expiry_1y_2y = get_discount_factor_by_zero_rates_linear_interp(\n",
    "    one_year, expiry, dates, discount_factors\n",
    ")\n",
    "\n",
    "one_year_mid_date=business_date_offset(today,  month_offset=18)\n",
    "df_expiry_1y_mid_date=get_discount_factor_by_zero_rates_linear_interp(\n",
    "    today, one_year_mid_date, dates, discount_factors\n",
    ")\n",
    "\n",
    "# Default probabilities\n",
    "df_1y_def = transition_matrix.at[rating, 'Def']\n",
    "df_2y_def = transition_matrix_2y.at[rating, 'Def']\n",
    "\n",
    "# Print default probabilities\n",
    "print(\n",
    "    f\"One year real world default probability: {df_1y_def:.2%}\"\n",
    ")\n",
    "print(\n",
    "    f\"Two year real world default probability: {df_2y_def:.2%}\"\n",
    ")\n",
    "\n",
    "# Survival probabilities\n",
    "survival_prob_1y = 1 - df_1y_def\n",
    "survival_prob_2y = 1 - df_2y_def\n",
    "\n",
    "# Forward prices for IG and HY\n",
    "\n",
    "fwd_price_ig = (1-df_1y_def) * (df_expiry/df_expiry_1y) + df_1y_def * (df_expiry_1y_mid_date/df_expiry_1y) * recovery_rate\n",
    "fwd_price_hy = (1 - transition_matrix.at['HY', 'Def']) * (df_expiry/df_expiry_1y) + transition_matrix.at['HY', 'Def'] * (df_expiry_1y_mid_date/df_expiry_1y) * recovery_rate\n",
    "\n",
    "\n",
    "# Print forward prices\n",
    "print(\n",
    "    f\"Forward zero coupon bond IG: {fwd_price_ig:.4f}\"\n",
    ")\n",
    "print(\n",
    "    f\"Forward zero coupon bond HY: {fwd_price_hy:.4f}\"\n",
    ")\n",
    "\n",
    "# Portfolio Mark-to-Market (MtM)\n",
    "bond_mtm = (\n",
    "    transition_matrix.at[rating, rating] * df_expiry_1y * fwd_price_ig +\n",
    "    transition_matrix.at[rating, 'HY'] * df_expiry_1y * fwd_price_hy +\n",
    "    df_1y_def * recovery_rate * df_mid_date\n",
    ")\n",
    "\n",
    "bond_mtm = bond_mtm * face_value\n",
    "ptf_mtm = issuers_num * bond_mtm\n",
    "\n",
    "# Print portfolio MtM\n",
    "print(f\"Portfolio MtM: €{ptf_mtm:,.2f}\")"
   ],
   "outputs": [
    {
     "name": "stdout",
     "output_type": "stream",
     "text": [
      "One year real world default probability: 2.00%\n",
      "Two year real world default probability: 4.71%\n",
      "Forward zero coupon bond IG: 0.9581\n",
      "Forward zero coupon bond HY: 0.9408\n",
      "Portfolio MtM: €91,288,211.35\n"
     ]
    }
   ],
   "execution_count": 5
  },
  {
   "metadata": {
    "ExecuteTime": {
     "end_time": "2025-04-06T17:00:35.899907Z",
     "start_time": "2025-04-06T17:00:35.890817Z"
    }
   },
   "cell_type": "code",
   "source": [
    "# Q4: Monte Carlo simulation\n",
    "# Barriers and PnL for a single IG issuer\n",
    "barrier_default = norm.ppf(transition_matrix.at['IG', 'Def'])\n",
    "barrier_downgrade = norm.ppf(transition_matrix.at['IG', 'HY'] + transition_matrix.at['IG', 'Def'])\n",
    "barrier_upgrade = np.inf  # It can't be upgraded\n",
    "\n",
    "bond_mtm_actualized = bond_mtm / df_expiry_1y\n",
    "\n",
    "loss_given_default = -(face_value * recovery_rate - bond_mtm_actualized)\n",
    "loss_given_downgrade = -(face_value * fwd_price_hy - bond_mtm_actualized)\n",
    "loss_status_quo = -(face_value * fwd_price_ig - bond_mtm_actualized)\n",
    "loss_upgrade = 0"
   ],
   "outputs": [],
   "execution_count": 6
  },
  {
   "metadata": {
    "ExecuteTime": {
     "end_time": "2025-04-06T17:00:39.991205Z",
     "start_time": "2025-04-06T17:00:35.963882Z"
    }
   },
   "cell_type": "code",
   "source": [
    "y = np.random.normal(size=(mc_simulations, 1))\n",
    "z = np.random.normal(size=(mc_simulations, issuers_num))\n",
    "# Adding correlation\n",
    "v = rho * y + np.sqrt(1 - rho**2) * z"
   ],
   "outputs": [],
   "execution_count": 7
  },
  {
   "cell_type": "code",
   "metadata": {
    "ExecuteTime": {
     "end_time": "2025-04-06T17:05:26.957180Z",
     "start_time": "2025-04-06T17:00:40.010534Z"
    }
   },
   "source": [
    "#Binary variables\n",
    "#Parameters\n",
    "defaults = np.zeros(mc_simulations)\n",
    "downgrades = np.zeros(mc_simulations)\n",
    "status_quo = np.zeros(mc_simulations)\n",
    "\n",
    "upgrades = 0 # we don't have a higher rank than IG\n",
    "\n",
    "for i in range(mc_simulations):\n",
    "    for j in range(issuers_num): #we count the situation of any j-th issuer in the i-th simulation\n",
    "        if v[i][j] < barrier_default:\n",
    "            defaults[i] = defaults[i] + 1\n",
    "        elif v[i][j] > barrier_downgrade:\n",
    "            status_quo[i] = status_quo[i] + 1\n",
    "        else:\n",
    "            downgrades[i] = downgrades[i] + 1\n",
    "\n",
    "\n",
    "print(f\"Average defaults: {defaults.mean()}\")\n",
    "print(f\"Average downgrades: {downgrades.mean()}\")"
   ],
   "outputs": [
    {
     "name": "stdout",
     "output_type": "stream",
     "text": [
      "Average defaults: 1.998798\n",
      "Average downgrades: 25.000187\n"
     ]
    }
   ],
   "execution_count": 8
  },
  {
   "cell_type": "code",
   "metadata": {
    "ExecuteTime": {
     "end_time": "2025-04-06T17:05:27.251614Z",
     "start_time": "2025-04-06T17:05:27.225348Z"
    }
   },
   "source": [
    "# Marginal distributions (check)\n",
    "prob_default = defaults.mean() / issuers_num\n",
    "prob_downgrade = downgrades.mean() / issuers_num\n",
    "prob_status_quo = status_quo.mean() / issuers_num\n",
    "prob_upgrades = upgrades / issuers_num"
   ],
   "outputs": [],
   "execution_count": 9
  },
  {
   "cell_type": "code",
   "metadata": {
    "ExecuteTime": {
     "end_time": "2025-04-06T17:05:27.490651Z",
     "start_time": "2025-04-06T17:05:27.371272Z"
    }
   },
   "source": [
    "# Evaluating the one-year 99% VaR by taking into account defaults only/defaults and downgrades\n",
    "\n",
    "# Here one should consider also the impact of the status quo\n",
    "scenario1 = loss_given_default * defaults + loss_status_quo * (issuers_num - defaults)\n",
    "scenario2 = loss_given_default * defaults + loss_given_downgrade * downgrades + loss_status_quo * status_quo\n",
    "\n",
    "VaR1 = np.percentile(scenario1, alpha)\n",
    "VaR2 = np.percentile(scenario2, alpha)\n",
    "\n",
    "print(f\"VaR only defaults: {VaR1:,.2f}€\")\n",
    "print(f\"VaR defaults and downgrades: {VaR2:,.2f}€\")"
   ],
   "outputs": [
    {
     "name": "stdout",
     "output_type": "stream",
     "text": [
      "VaR only defaults: 2,372,735.34€\n",
      "VaR defaults and downgrades: 2,822,104.38€\n"
     ]
    }
   ],
   "execution_count": 10
  },
  {
   "cell_type": "code",
   "metadata": {
    "ExecuteTime": {
     "end_time": "2025-04-06T17:05:35.675974Z",
     "start_time": "2025-04-06T17:05:27.581433Z"
    }
   },
   "source": [
    "import matplotlib.pyplot as plt\n",
    "\n",
    "plt.figure()\n",
    "plt.plot(sorted(scenario1))\n",
    "plt.title(\"Tail Scenario only defaults\")\n",
    "\n",
    "plt.figure()\n",
    "plt.hist(scenario1, bins=250, density=True)\n",
    "plt.title(\"Loss distribution only defaults\")\n",
    "\n",
    "plt.figure()\n",
    "plt.plot(sorted(scenario2))\n",
    "plt.title(\"Tail Scenario defaults and downgrades\")\n",
    "\n",
    "plt.figure()\n",
    "plt.hist(scenario2, bins=250, density=True)\n",
    "plt.title(\"Loss distribution \")"
   ],
   "outputs": [
    {
     "data": {
      "text/plain": [
       "Text(0.5, 1.0, 'Loss distribution ')"
      ]
     },
     "execution_count": 11,
     "metadata": {},
     "output_type": "execute_result"
    },
    {
     "data": {
      "text/plain": [
       "<Figure size 640x480 with 1 Axes>"
      ],
      "image/png": "[encoded data removed]"
     },
     "metadata": {},
     "output_type": "display_data"
    },
    {
     "data": {
      "text/plain": [
       "<Figure size 640x480 with 1 Axes>"
      ],
      "image/png": "[encoded data removed]"
     },
     "metadata": {},
     "output_type": "display_data"
    },
    {
     "data": {
      "text/plain": [
       "<Figure size 640x480 with 1 Axes>"
      ],
      "image/png": "[encoded data removed]"
     },
     "metadata": {},
     "output_type": "display_data"
    },
    {
     "data": {
      "text/plain": [
       "<Figure size 640x480 with 1 Axes>"
      ],
      "image/png": "[encoded data removed]"
     },
     "metadata": {},
     "output_type": "display_data"
    }
   ],
   "execution_count": 11
  },
  {
   "metadata": {
    "ExecuteTime": {
     "end_time": "2025-04-06T17:05:45.847927Z",
     "start_time": "2025-04-06T17:05:35.789198Z"
    }
   },
   "cell_type": "code",
   "source": [
    "# Q5: Monte Carlo simulation with changing correlation\n",
    "\n",
    "# Defining a flag\n",
    "use_high_rho = True  # Set to False for rho = 0%, True for rho = 30%\n",
    "\n",
    "# Setting rho based on the flag\n",
    "rho = 0.3 if use_high_rho else 0\n",
    "\n",
    "# Generating random variables\n",
    "y = np.random.normal(size=(mc_simulations, 1))\n",
    "z = np.random.normal(size=(mc_simulations, issuers_num))\n",
    "\n",
    "# adding correlation\n",
    "v = rho * y + np.sqrt(1 - rho**2) * z"
   ],
   "outputs": [],
   "execution_count": 12
  },
  {
   "metadata": {
    "ExecuteTime": {
     "end_time": "2025-04-06T17:08:09.608879Z",
     "start_time": "2025-04-06T17:05:46.012033Z"
    }
   },
   "cell_type": "code",
   "source": [
    "#Binary variables\n",
    "defaults = np.zeros(mc_simulations)\n",
    "downgrades = np.zeros(mc_simulations)\n",
    "status_quo = np.zeros(mc_simulations)\n",
    "\n",
    "upgrades = 0\n",
    "\n",
    "for i in range(mc_simulations):\n",
    "    for j in range(issuers_num):\n",
    "        if v[i][j] < barrier_default:\n",
    "            defaults[i] = defaults[i] + 1\n",
    "        elif v[i][j] > barrier_downgrade:\n",
    "            status_quo[i] = status_quo[i] + 1\n",
    "        else:\n",
    "            downgrades[i] = downgrades[i] + 1\n",
    "\n",
    "\n",
    "print(f\"Average defaults: {defaults.mean()}\")\n",
    "print(f\"Average downgrades: {downgrades.mean()}\")"
   ],
   "outputs": [
    {
     "name": "stdout",
     "output_type": "stream",
     "text": [
      "Average defaults: 1.997985\n",
      "Average downgrades: 24.992106\n"
     ]
    }
   ],
   "execution_count": 13
  },
  {
   "metadata": {
    "ExecuteTime": {
     "end_time": "2025-04-06T17:08:09.950707Z",
     "start_time": "2025-04-06T17:08:09.923085Z"
    }
   },
   "cell_type": "code",
   "source": [
    "scenario = loss_given_default * defaults + loss_given_downgrade * downgrades + loss_status_quo * status_quo\n",
    "VaR = np.percentile(scenario, alpha)\n",
    "\n",
    "print(f\"VaR defaults and downgrades: {VaR:,.2f}€\")"
   ],
   "outputs": [
    {
     "name": "stdout",
     "output_type": "stream",
     "text": [
      "VaR defaults and downgrades: 4,335,836.53€\n"
     ]
    }
   ],
   "execution_count": 14
  },
  {
   "metadata": {
    "ExecuteTime": {
     "end_time": "2025-04-04T10:52:55.810942Z",
     "start_time": "2025-04-04T10:52:55.799759Z"
    }
   },
   "cell_type": "code",
   "source": [
    "# Q7:\n",
    "# Parameters\n",
    "recovery_rate2 = 0.1 #changed recovery rate\n",
    "face_value = 1_000_000\n",
    "rho = 0.15\n",
    "mc_simulations = 1_000_000"
   ],
   "outputs": [],
   "execution_count": 27
  },
  {
   "metadata": {
    "ExecuteTime": {
     "end_time": "2025-04-04T10:52:55.889523Z",
     "start_time": "2025-04-04T10:52:55.876474Z"
    }
   },
   "cell_type": "code",
   "source": [
    "# Forward prices for IG and HY\n",
    "\n",
    "fwd_price_ig = (1-df_1y_def) * (df_expiry/df_expiry_1y) + df_1y_def * (df_expiry_1y_mid_date/df_expiry_1y) * recovery_rate2\n",
    "fwd_price_hy = (1 - transition_matrix.at['HY', 'Def']) * (df_expiry/df_expiry_1y) + transition_matrix.at['HY', 'Def'] * (df_expiry_1y_mid_date/df_expiry_1y) * recovery_rate2\n",
    "\n",
    "\n",
    "# Print forward prices\n",
    "print(\n",
    "    f\"Forward zero coupon bond IG: {fwd_price_ig:.4f}\"\n",
    ")\n",
    "print(\n",
    "    f\"Forward zero coupon bond HY: {fwd_price_hy:.4f}\"\n",
    ")\n",
    "\n",
    "# Portfolio Mark-to-Market (MtM)\n",
    "bond_mtm = (\n",
    "    transition_matrix.at[rating, rating] * df_expiry_1y * fwd_price_ig +\n",
    "    transition_matrix.at[rating, 'HY'] * df_expiry_1y * fwd_price_hy +\n",
    "    df_1y_def * recovery_rate2 * df_mid_date\n",
    ")\n",
    "\n",
    "bond_mtm = bond_mtm * face_value\n",
    "ptf_mtm = issuers_num * bond_mtm\n",
    "\n",
    "# Print portfolio MtM\n",
    "print(f\"Portfolio MtM: €{ptf_mtm:,.2f}\")"
   ],
   "outputs": [
    {
     "name": "stdout",
     "output_type": "stream",
     "text": [
      "Forward zero coupon bond IG: 0.9522\n",
      "Forward zero coupon bond HY: 0.9261\n",
      "Portfolio MtM: €89,922,388.95\n"
     ]
    }
   ],
   "execution_count": 28
  },
  {
   "metadata": {
    "ExecuteTime": {
     "end_time": "2025-04-04T10:52:55.922641Z",
     "start_time": "2025-04-04T10:52:55.915733Z"
    }
   },
   "cell_type": "code",
   "source": [
    "bond_mtm_actualized = bond_mtm / df_expiry_1y\n",
    "loss_given_default = -(face_value * recovery_rate2 - bond_mtm_actualized)\n",
    "loss_given_downgrade = -(face_value * fwd_price_hy - bond_mtm_actualized)\n",
    "loss_status_quo = -(face_value * fwd_price_ig - bond_mtm_actualized)\n",
    "loss_upgrade = 0"
   ],
   "outputs": [],
   "execution_count": 29
  },
  {
   "metadata": {
    "ExecuteTime": {
     "end_time": "2025-04-04T10:53:02.804686Z",
     "start_time": "2025-04-04T10:52:55.974162Z"
    }
   },
   "cell_type": "code",
   "source": [
    "y = np.random.normal(size=(mc_simulations, 1))\n",
    "z = np.random.normal(size=(mc_simulations, issuers_num))\n",
    "# Adding correlation\n",
    "v = rho * y + np.sqrt(1 - rho**2) * z"
   ],
   "outputs": [],
   "execution_count": 30
  },
  {
   "metadata": {
    "ExecuteTime": {
     "end_time": "2025-04-04T10:56:03.506452Z",
     "start_time": "2025-04-04T10:53:02.875198Z"
    }
   },
   "cell_type": "code",
   "source": [
    "#Binary variables\n",
    "defaults = np.zeros(mc_simulations)\n",
    "downgrades = np.zeros(mc_simulations)\n",
    "status_quo = np.zeros(mc_simulations)\n",
    "\n",
    "upgrades = 0\n",
    "\n",
    "for i in range(mc_simulations):\n",
    "    for j in range(issuers_num):\n",
    "        if v[i][j] < barrier_default:\n",
    "            defaults[i] = defaults[i] + 1\n",
    "        elif v[i][j] > barrier_downgrade:\n",
    "            status_quo[i] = status_quo[i] + 1\n",
    "        else:\n",
    "            downgrades[i] = downgrades[i] + 1\n",
    "\n",
    "\n",
    "print(f\"Average defaults: {defaults.mean()}\")\n",
    "print(f\"Average downgrades: {downgrades.mean()}\")"
   ],
   "outputs": [
    {
     "name": "stdout",
     "output_type": "stream",
     "text": [
      "Average defaults: 1.998911\n",
      "Average downgrades: 24.992638\n"
     ]
    }
   ],
   "execution_count": 31
  },
  {
   "metadata": {
    "ExecuteTime": {
     "end_time": "2025-04-04T10:56:03.656674Z",
     "start_time": "2025-04-04T10:56:03.638198Z"
    }
   },
   "cell_type": "code",
   "source": [
    "# Marginal distributions (check)\n",
    "prob_default = defaults.mean() / issuers_num\n",
    "prob_downgrade = downgrades.mean() / issuers_num\n",
    "prob_status_quo = status_quo.mean() / issuers_num\n",
    "prob_upgrades = upgrades / issuers_num"
   ],
   "outputs": [],
   "execution_count": 32
  },
  {
   "metadata": {
    "ExecuteTime": {
     "end_time": "2025-04-04T10:56:03.851855Z",
     "start_time": "2025-04-04T10:56:03.774916Z"
    }
   },
   "cell_type": "code",
   "source": [
    "# Evaluating the one-year 99% VaR by taking into account defaults only/defaults and downgrades\n",
    "# with the new recovery rate\n",
    "\n",
    "# Here one should consider also the  impact of the status quo\n",
    "scenario1 = loss_given_default * defaults + loss_status_quo * (issuers_num - defaults)\n",
    "scenario2 = loss_given_default * defaults + loss_given_downgrade * downgrades + loss_status_quo * status_quo\n",
    "\n",
    "VaR1 = np.percentile(scenario1, alpha)\n",
    "VaR2 = np.percentile(scenario2, alpha)\n",
    "expected_loss = loss_given_default * defaults.mean() + loss_given_downgrade * downgrades.mean() + loss_status_quo * status_quo.mean()\n",
    "\n",
    "print(f\"Expected loss: {expected_loss:,.2f}€\")\n",
    "print(f\"VaR only defaults: {VaR1:,.2f}€\")\n",
    "print(f\"VaR defaults and downgrades: {VaR2:,.2f}€\")\n"
   ],
   "outputs": [
    {
     "name": "stdout",
     "output_type": "stream",
     "text": [
      "Expected loss: 2,451.40€\n",
      "VaR only defaults: 3,611,154.03€\n",
      "VaR defaults and downgrades: 4,290,729.24€\n"
     ]
    }
   ],
   "execution_count": 33
  }
 ],
 "metadata": {
  "kernelspec": {
   "display_name": "Python 3",
   "language": "python",
   "name": "python3"
  },
  "language_info": {
   "codemirror_mode": {
    "name": "ipython",
    "version": 3
   },
   "file_extension": ".py",
   "mimetype": "text/x-python",
   "name": "python",
   "nbconvert_exporter": "python",
   "pygments_lexer": "ipython3",
   "version": "3.13.2"
  }
 },
 "nbformat": 4,
 "nbformat_minor": 2
}
